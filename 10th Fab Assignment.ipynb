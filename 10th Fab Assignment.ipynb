{
 "cells": [
  {
   "cell_type": "markdown",
   "id": "08a81faa-448e-4892-b7bd-84483008dbf7",
   "metadata": {},
   "source": [
    "# 10th Fab Assignment"
   ]
  },
  {
   "cell_type": "markdown",
   "id": "df356dcd-4e1d-4067-be87-1acf1363d784",
   "metadata": {},
   "source": [
    "---------------------------------------------------------------------------------------------------------------------------------------"
   ]
  },
  {
   "cell_type": "markdown",
   "id": "36fa85ca-3cca-4bb6-9e23-dd05a99537c5",
   "metadata": {},
   "source": [
    "Q1. Which function is used to open a file? What are the different modes of opening a file? Explain each mode\n",
    "of file opening."
   ]
  },
  {
   "cell_type": "markdown",
   "id": "6d56097d-2479-46d0-b660-a3e73b1c9ca4",
   "metadata": {},
   "source": [
    "-> open() function is used to open a file.\n",
    "\n",
    "-> This function contain 2 parameters,filename and mode.\n",
    "\n",
    "-> There are four(4) different modes for opening a file.\n",
    "\n",
    "-> 1.   'w'- Write\n",
    "   \n",
    "   2.   'r'- Read\n",
    "   \n",
    "   3.   'a'- Append\n",
    "   \n",
    "   4.   'x'- Creat"
   ]
  },
  {
   "cell_type": "code",
   "execution_count": 2,
   "id": "1e27cff4-23c3-49ef-b0c3-9cdacb66cad6",
   "metadata": {},
   "outputs": [
    {
     "data": {
      "text/plain": [
       "17"
      ]
     },
     "execution_count": 2,
     "metadata": {},
     "output_type": "execute_result"
    }
   ],
   "source": [
    "#1 Write\n",
    "\n",
    "file=open(\"pw.txt\",\"w\")\n",
    "    \n",
    "file.write(\"This is for write\")"
   ]
  },
  {
   "cell_type": "code",
   "execution_count": 4,
   "id": "e3a00395-987e-4f2b-a089-615d9e60e6fd",
   "metadata": {},
   "outputs": [
    {
     "data": {
      "text/plain": [
       "'This is for write'"
      ]
     },
     "execution_count": 4,
     "metadata": {},
     "output_type": "execute_result"
    }
   ],
   "source": [
    "#2 Read\n",
    "\n",
    "file=open(\"pw.txt\",\"r\")\n",
    "\n",
    "file.read()"
   ]
  },
  {
   "cell_type": "code",
   "execution_count": 8,
   "id": "b3be9642-e82e-49a2-b933-9bb944081fab",
   "metadata": {},
   "outputs": [
    {
     "data": {
      "text/plain": [
       "'This is first file'"
      ]
     },
     "execution_count": 8,
     "metadata": {},
     "output_type": "execute_result"
    }
   ],
   "source": [
    "#3 Append\n",
    "\n",
    "file1=open(\"file1.txt\",\"w\")\n",
    "file1.write(\"This is first file\")\n",
    "\n",
    "file2=open(\"file1.txt\",\"a\")\n",
    "file2=open(\"file1.txt\",\"r\")\n",
    "file2.read()"
   ]
  },
  {
   "cell_type": "code",
   "execution_count": 9,
   "id": "6510c06c-d94f-4ff5-b69f-2c63d156255a",
   "metadata": {},
   "outputs": [],
   "source": [
    "#4 Creat\n",
    "\n",
    "file=open(\"file.txt\",\"x\")"
   ]
  },
  {
   "cell_type": "markdown",
   "id": "3ce5ab0d-fd70-4099-99f6-d843bb8eb0c9",
   "metadata": {},
   "source": [
    "---------------------------------------------------------------------------------------------------------------------------------------"
   ]
  },
  {
   "cell_type": "markdown",
   "id": "0cebf6c6-c540-451e-9e93-2980be8afe09",
   "metadata": {},
   "source": [
    "Q2. Why close() function is used? Why is it important to close a file?"
   ]
  },
  {
   "cell_type": "markdown",
   "id": "79ab64a8-b690-49e6-8c1f-d7c107b251de",
   "metadata": {},
   "source": [
    "-> close() function is used to close the file.\n",
    "\n",
    "-> close() function is very important for any file.\n",
    "\n",
    "-> Due to some cases or due to buffering ,changes made in file are not showning until you close the file with close() function."
   ]
  },
  {
   "cell_type": "markdown",
   "id": "56abbd82-3967-47f6-b53c-4a909761a0fc",
   "metadata": {},
   "source": [
    "---------------------------------------------------------------------------------------------------------------------------------------"
   ]
  },
  {
   "cell_type": "markdown",
   "id": "43712ce9-0fc8-4174-bd2f-928b4a49d9ce",
   "metadata": {},
   "source": [
    "Q3. Write a python program to create a text file. Write ‘I want to become a Data Scientist’ in that file. Then\n",
    "close the file. Open this file and read the content of the file."
   ]
  },
  {
   "cell_type": "code",
   "execution_count": 11,
   "id": "26eed99c-a82c-47b0-87db-7370a263c011",
   "metadata": {},
   "outputs": [],
   "source": [
    "file=open(\"ds.txt\",\"w\")\n",
    "file.write(\"I want to become a Data Scientist\")\n",
    "file.close()"
   ]
  },
  {
   "cell_type": "code",
   "execution_count": 12,
   "id": "8ac20788-da4e-4765-a9a8-d4be2b448817",
   "metadata": {},
   "outputs": [
    {
     "data": {
      "text/plain": [
       "'I want to become a Data Scientist'"
      ]
     },
     "execution_count": 12,
     "metadata": {},
     "output_type": "execute_result"
    }
   ],
   "source": [
    "file=open(\"ds.txt\",\"r\")\n",
    "file.read()"
   ]
  },
  {
   "cell_type": "markdown",
   "id": "9d3d7dd0-ed03-4fdf-963d-f5d667d6caba",
   "metadata": {},
   "source": [
    "---------------------------------------------------------------------------------------------------------------------------------------"
   ]
  },
  {
   "cell_type": "markdown",
   "id": "dbc503c4-ba79-44ac-846a-0af1cc8b622d",
   "metadata": {},
   "source": [
    "Q4. Explain the following with python code: read(), readline() and readlines()."
   ]
  },
  {
   "cell_type": "code",
   "execution_count": 13,
   "id": "610f05fc-f8a9-4426-a58a-5aeaae556d36",
   "metadata": {},
   "outputs": [
    {
     "data": {
      "text/plain": [
       "'this is for read() function.'"
      ]
     },
     "execution_count": 13,
     "metadata": {},
     "output_type": "execute_result"
    }
   ],
   "source": [
    "# read()\n",
    "\n",
    "file=open(\"read.txt\",\"w\")\n",
    "file.write(\"this is for read() function.\")\n",
    "\n",
    "file=open(\"read.txt\",\"r\")\n",
    "file.read()"
   ]
  },
  {
   "cell_type": "code",
   "execution_count": 2,
   "id": "d52cde2b-0463-4ca6-a66b-1796bd2dbd43",
   "metadata": {},
   "outputs": [
    {
     "data": {
      "text/plain": [
       "\"this is for readline() function,This looks similar to your close construct, but don't be fooled: it's cl Python is a high-level, general-purpose programming language. Its design philosophy emphasizes code readability with the use of significant indentation.Python is dynamically typed and garbage-collected. It supports multiple programming paradigms, including structured (particularly procedural), object-oriented and functional programming.\""
      ]
     },
     "execution_count": 2,
     "metadata": {},
     "output_type": "execute_result"
    }
   ],
   "source": [
    "# readline()\n",
    "\n",
    "file=open(\"readline.txt\",\"w\")\n",
    "file.write(\"this is for readline() function,This looks similar to your close construct, but don't be fooled: it's cl Python is a high-level, general-purpose programming language. Its design philosophy emphasizes code readability with the use of significant indentation.Python is dynamically typed and garbage-collected. It supports multiple programming paradigms, including structured (particularly procedural), object-oriented and functional programming.\")\n",
    "\n",
    "file=open(\"readline.txt\",\"r\")\n",
    "file.readline()"
   ]
  },
  {
   "cell_type": "code",
   "execution_count": 3,
   "id": "501f463b-943c-495e-80db-497763fdc66d",
   "metadata": {},
   "outputs": [
    {
     "data": {
      "text/plain": [
       "[\"this is for readlines() function,This looks similar to your close construct, but don't be fooled: it's cl Python is a high-level, general-purpose programming language. Its design philosophy emphasizes code readability with the use of significant indentation.Python is dynamically typed and garbage-collected. It supports multiple programming paradigms, including structured (particularly procedural), object-oriented and functional programming.\"]"
      ]
     },
     "execution_count": 3,
     "metadata": {},
     "output_type": "execute_result"
    }
   ],
   "source": [
    "# readlines\n",
    "\n",
    "file=open(\"readlines.txt\",\"w\")\n",
    "file.write(\"this is for readlines() function,This looks similar to your close construct, but don't be fooled: it's cl Python is a high-level, general-purpose programming language. Its design philosophy emphasizes code readability with the use of significant indentation.Python is dynamically typed and garbage-collected. It supports multiple programming paradigms, including structured (particularly procedural), object-oriented and functional programming.\")\n",
    "\n",
    "file=open(\"readlines.txt\",\"r\")\n",
    "file.readlines()"
   ]
  },
  {
   "cell_type": "markdown",
   "id": "8a8cc75d-e4fe-4cb0-99e4-fe85d3671dae",
   "metadata": {},
   "source": [
    "---------------------------------------------------------------------------------------------------------------------------------------"
   ]
  },
  {
   "cell_type": "markdown",
   "id": "18fbc442-2726-4ada-8d19-87f0e76d9064",
   "metadata": {},
   "source": [
    "Q5. Explain why with statement is used with open(). What is the advantage of using with statement and\n",
    "open() together?"
   ]
  },
  {
   "cell_type": "markdown",
   "id": "e3e7c31f-d0d1-4b85-9196-8ded6310eed9",
   "metadata": {},
   "source": [
    "-> A function or class that supports the with statement is known as a context manager. A context manager allows you to open and close resources   \n",
    "   right when you want to. For example, the open () function is a context manager. When you call the open () function using the with statement,    \n",
    "   the file closes automatically after you’ve processed the file.\n",
    "   \n",
    "   \n",
    "   \n",
    "\n",
    "Advantages of With statement\n",
    "\n",
    "-> In order to be equivalent to the with statement version, the code you wrote should look instead\n",
    "\n",
    "-> While this might seem like syntactic sugar, it ensures that you release resources.\n",
    "\n",
    "-> Generally the world is more complex than these contrived examples and if you forget a try.. except... or fail to handle an extreme case, you    have resource leaks on your hands.\n",
    "\n",
    "\n",
    "\n",
    "\n"
   ]
  },
  {
   "cell_type": "markdown",
   "id": "695bdcbd-d7bf-4b41-958d-0ba9d1d92561",
   "metadata": {},
   "source": [
    "---------------------------------------------------------------------------------------------------------------------------------------"
   ]
  },
  {
   "cell_type": "markdown",
   "id": "4c36d661-a0cb-4362-ab32-38d4960a3e8a",
   "metadata": {},
   "source": [
    "Q6. Explain write() and writeline() function with a suitable example."
   ]
  },
  {
   "cell_type": "markdown",
   "id": "cf8d84b7-b0d2-4de7-be49-4588b1258123",
   "metadata": {},
   "source": [
    "# write()\n",
    "\n",
    "-> The write() function will write the content in the file without adding any extra characters.\n",
    "\n",
    "-> The string that is passed to the write() function is written into the opened file. \n",
    "\n",
    "-> The string may include numbers, special characters, or symbols.\n",
    "\n",
    "-> While writing data to a file, we must know that the write function does not add a newline character(\\n) to the end of the string. \n",
    "\n",
    "-> The write() function returns None."
   ]
  },
  {
   "cell_type": "code",
   "execution_count": 2,
   "id": "0ad37f98-82df-40da-afdd-aefa28686a0d",
   "metadata": {},
   "outputs": [
    {
     "data": {
      "text/plain": [
       "29"
      ]
     },
     "execution_count": 2,
     "metadata": {},
     "output_type": "execute_result"
    }
   ],
   "source": [
    "# Example\n",
    "\n",
    "file=open(\"test.txt\",\"w\")\n",
    "file.write(\"This is for write() function.\")"
   ]
  },
  {
   "cell_type": "markdown",
   "id": "83cba39d-80fe-4e0a-9b86-94cc2612e43a",
   "metadata": {},
   "source": [
    "# writelin()\n",
    "\n",
    "-> This function writes the content of a list to a file.\n",
    "\n",
    "-> The list of strings that is passed to the writelines() function is written into the opened file.\n",
    "\n",
    "-> Similar to the write() function, the writelines() function does not add a newline character(\\n) to the end of the string.\n",
    "\n"
   ]
  },
  {
   "cell_type": "code",
   "execution_count": null,
   "id": "4d3ddccf-52a6-4988-9a51-7803a7c559aa",
   "metadata": {},
   "outputs": [],
   "source": [
    "# Example\n",
    "\n",
    "file=open(\"test.txt\",\"w\")\n",
    "file.writeline(\"the list of strings that is passed to the writelines() function is written into the opened file. Similar to the write() function, the writelines() function does not add a newline character\\n to the end of the string.\")\n",
    "file.close()"
   ]
  },
  {
   "cell_type": "code",
   "execution_count": null,
   "id": "6fb081c1-a2bb-4383-aa06-5ab6f87a296f",
   "metadata": {},
   "outputs": [],
   "source": []
  }
 ],
 "metadata": {
  "kernelspec": {
   "display_name": "Python 3 (ipykernel)",
   "language": "python",
   "name": "python3"
  },
  "language_info": {
   "codemirror_mode": {
    "name": "ipython",
    "version": 3
   },
   "file_extension": ".py",
   "mimetype": "text/x-python",
   "name": "python",
   "nbconvert_exporter": "python",
   "pygments_lexer": "ipython3",
   "version": "3.10.8"
  }
 },
 "nbformat": 4,
 "nbformat_minor": 5
}
